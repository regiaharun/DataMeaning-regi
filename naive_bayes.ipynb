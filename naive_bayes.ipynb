{
  "metadata": {
    "kernelspec": {
      "language": "python",
      "display_name": "Python 3",
      "name": "python3"
    },
    "language_info": {
      "pygments_lexer": "ipython3",
      "nbconvert_exporter": "python",
      "version": "3.6.4",
      "file_extension": ".py",
      "codemirror_mode": {
        "name": "ipython",
        "version": 3
      },
      "name": "python",
      "mimetype": "text/x-python"
    },
    "kaggle": {
      "accelerator": "none",
      "dataSources": [
        {
          "sourceId": 38700,
          "sourceType": "datasetVersion",
          "datasetId": 30368
        }
      ],
      "dockerImageVersionId": 30497,
      "isInternetEnabled": false,
      "language": "python",
      "sourceType": "notebook",
      "isGpuEnabled": false
    },
    "colab": {
      "provenance": [],
      "include_colab_link": true
    }
  },
  "nbformat_minor": 0,
  "nbformat": 4,
  "cells": [
    {
      "cell_type": "markdown",
      "metadata": {
        "id": "view-in-github",
        "colab_type": "text"
      },
      "source": [
        "<a href=\"https://colab.research.google.com/github/regiaharun/DataMeaning-regi/blob/main/naive_bayes.ipynb\" target=\"_parent\"><img src=\"https://colab.research.google.com/assets/colab-badge.svg\" alt=\"Open In Colab\"/></a>"
      ]
    },
    {
      "cell_type": "markdown",
      "source": [
        "**Import Dataset**"
      ],
      "metadata": {
        "id": "WKP0Oey232AC"
      }
    },
    {
      "cell_type": "code",
      "source": [
        "import numpy as np\n",
        "import pandas as pd\n",
        "import matplotlib.pyplot as plt\n",
        "import seaborn as sns"
      ],
      "metadata": {
        "_uuid": "8f2839f25d086af736a60e9eeb907d3b93b6e0e5",
        "_cell_guid": "b1076dfc-b9ad-4769-8c92-a6c4dae69d19",
        "execution": {
          "iopub.status.busy": "2023-06-06T14:31:54.524083Z",
          "iopub.execute_input": "2023-06-06T14:31:54.5245Z",
          "iopub.status.idle": "2023-06-06T14:31:54.529655Z",
          "shell.execute_reply.started": "2023-06-06T14:31:54.524468Z",
          "shell.execute_reply": "2023-06-06T14:31:54.528011Z"
        },
        "trusted": true,
        "id": "oyS5ofiV32AD"
      },
      "execution_count": 1,
      "outputs": []
    },
    {
      "cell_type": "code",
      "source": [
        "dataset = pd.read_csv('bank-additional-full.csv', sep = ';')"
      ],
      "metadata": {
        "execution": {
          "iopub.status.busy": "2023-06-06T14:31:54.571479Z",
          "iopub.execute_input": "2023-06-06T14:31:54.571862Z",
          "iopub.status.idle": "2023-06-06T14:31:54.771005Z",
          "shell.execute_reply.started": "2023-06-06T14:31:54.571834Z",
          "shell.execute_reply": "2023-06-06T14:31:54.769904Z"
        },
        "trusted": true,
        "id": "mjHHCc3E32AE"
      },
      "execution_count": 3,
      "outputs": []
    },
    {
      "cell_type": "code",
      "source": [
        "print(dataset.info())"
      ],
      "metadata": {
        "execution": {
          "iopub.status.busy": "2023-06-06T14:31:54.773208Z",
          "iopub.execute_input": "2023-06-06T14:31:54.773697Z",
          "iopub.status.idle": "2023-06-06T14:31:54.859435Z",
          "shell.execute_reply.started": "2023-06-06T14:31:54.773654Z",
          "shell.execute_reply": "2023-06-06T14:31:54.857928Z"
        },
        "trusted": true,
        "colab": {
          "base_uri": "https://localhost:8080/"
        },
        "id": "kLu4zcFD32AE",
        "outputId": "50f35b58-48b9-4d1e-909a-7389aa174e6d"
      },
      "execution_count": 5,
      "outputs": [
        {
          "output_type": "stream",
          "name": "stdout",
          "text": [
            "<class 'pandas.core.frame.DataFrame'>\n",
            "RangeIndex: 41188 entries, 0 to 41187\n",
            "Data columns (total 21 columns):\n",
            " #   Column          Non-Null Count  Dtype  \n",
            "---  ------          --------------  -----  \n",
            " 0   age             41188 non-null  int64  \n",
            " 1   job             41188 non-null  object \n",
            " 2   marital         41188 non-null  object \n",
            " 3   education       41188 non-null  object \n",
            " 4   default         41188 non-null  object \n",
            " 5   housing         41188 non-null  object \n",
            " 6   loan            41188 non-null  object \n",
            " 7   contact         41188 non-null  object \n",
            " 8   month           41188 non-null  object \n",
            " 9   day_of_week     41188 non-null  object \n",
            " 10  duration        41188 non-null  int64  \n",
            " 11  campaign        41188 non-null  int64  \n",
            " 12  pdays           41188 non-null  int64  \n",
            " 13  previous        41188 non-null  int64  \n",
            " 14  poutcome        41188 non-null  object \n",
            " 15  emp.var.rate    41188 non-null  float64\n",
            " 16  cons.price.idx  41188 non-null  float64\n",
            " 17  cons.conf.idx   41188 non-null  float64\n",
            " 18  euribor3m       41188 non-null  float64\n",
            " 19  nr.employed     41188 non-null  float64\n",
            " 20  subscribed      41188 non-null  object \n",
            "dtypes: float64(5), int64(5), object(11)\n",
            "memory usage: 6.6+ MB\n",
            "None\n"
          ]
        }
      ]
    },
    {
      "cell_type": "markdown",
      "source": [
        "**Cleaning Dataset**"
      ],
      "metadata": {
        "id": "CBGtMCXY32AF"
      }
    },
    {
      "cell_type": "markdown",
      "source": [
        "Mengubah kolom nama kolom y menjadi subsciribed"
      ],
      "metadata": {
        "id": "x6Klto6f32AF"
      }
    },
    {
      "cell_type": "code",
      "source": [
        "dataset = dataset.rename(columns={'y': 'subscribed'})"
      ],
      "metadata": {
        "execution": {
          "iopub.status.busy": "2023-06-06T14:31:54.861327Z",
          "iopub.execute_input": "2023-06-06T14:31:54.862523Z",
          "iopub.status.idle": "2023-06-06T14:31:54.874429Z",
          "shell.execute_reply.started": "2023-06-06T14:31:54.862474Z",
          "shell.execute_reply": "2023-06-06T14:31:54.872791Z"
        },
        "trusted": true,
        "id": "GSCHcduQ32AF"
      },
      "execution_count": 6,
      "outputs": []
    },
    {
      "cell_type": "markdown",
      "source": [
        "Check duplikasi data"
      ],
      "metadata": {
        "id": "PaMoDaMF32AF"
      }
    },
    {
      "cell_type": "code",
      "source": [
        "print(dataset.duplicated().sum())"
      ],
      "metadata": {
        "execution": {
          "iopub.status.busy": "2023-06-06T14:31:54.877802Z",
          "iopub.execute_input": "2023-06-06T14:31:54.879167Z",
          "iopub.status.idle": "2023-06-06T14:31:54.934362Z",
          "shell.execute_reply.started": "2023-06-06T14:31:54.879099Z",
          "shell.execute_reply": "2023-06-06T14:31:54.933364Z"
        },
        "trusted": true,
        "colab": {
          "base_uri": "https://localhost:8080/"
        },
        "id": "CO63pGWt32AF",
        "outputId": "2e716832-eabf-4b56-a38b-85ca9d3d45d8"
      },
      "execution_count": 7,
      "outputs": [
        {
          "output_type": "stream",
          "name": "stdout",
          "text": [
            "12\n"
          ]
        }
      ]
    },
    {
      "cell_type": "markdown",
      "source": [
        "Terdapat 12 data yang terduplikat"
      ],
      "metadata": {
        "id": "QqRGKeeK32AG"
      }
    },
    {
      "cell_type": "markdown",
      "source": [
        "Menampilkan data yang terduplikat"
      ],
      "metadata": {
        "id": "KP-E3jH632AG"
      }
    },
    {
      "cell_type": "code",
      "source": [
        "print(dataset[dataset.duplicated(keep=False)].iloc[:,:7])"
      ],
      "metadata": {
        "execution": {
          "iopub.status.busy": "2023-06-06T14:31:54.935521Z",
          "iopub.execute_input": "2023-06-06T14:31:54.936817Z",
          "iopub.status.idle": "2023-06-06T14:31:54.999948Z",
          "shell.execute_reply.started": "2023-06-06T14:31:54.936763Z",
          "shell.execute_reply": "2023-06-06T14:31:54.998363Z"
        },
        "trusted": true,
        "colab": {
          "base_uri": "https://localhost:8080/"
        },
        "id": "BWGwKiLq32AG",
        "outputId": "972525a3-648e-416e-ed37-f65f98e3b4a3"
      },
      "execution_count": 9,
      "outputs": [
        {
          "output_type": "stream",
          "name": "stdout",
          "text": [
            "       age          job   marital            education  default housing loan\n",
            "1265    39  blue-collar   married             basic.6y       no      no   no\n",
            "1266    39  blue-collar   married             basic.6y       no      no   no\n",
            "12260   36      retired   married              unknown       no      no   no\n",
            "12261   36      retired   married              unknown       no      no   no\n",
            "14155   27   technician    single  professional.course       no      no   no\n",
            "14234   27   technician    single  professional.course       no      no   no\n",
            "16819   47   technician  divorced          high.school       no     yes   no\n",
            "16956   47   technician  divorced          high.school       no     yes   no\n",
            "18464   32   technician    single  professional.course       no     yes   no\n",
            "18465   32   technician    single  professional.course       no     yes   no\n",
            "20072   55     services   married          high.school  unknown      no   no\n",
            "20216   55     services   married          high.school  unknown      no   no\n",
            "20531   41   technician   married  professional.course       no     yes   no\n",
            "20534   41   technician   married  professional.course       no     yes   no\n",
            "25183   39       admin.   married    university.degree       no      no   no\n",
            "25217   39       admin.   married    university.degree       no      no   no\n",
            "28476   24     services    single          high.school       no     yes   no\n",
            "28477   24     services    single          high.school       no     yes   no\n",
            "32505   35       admin.   married    university.degree       no     yes   no\n",
            "32516   35       admin.   married    university.degree       no     yes   no\n",
            "36950   45       admin.   married    university.degree       no      no   no\n",
            "36951   45       admin.   married    university.degree       no      no   no\n",
            "38255   71      retired    single    university.degree       no      no   no\n",
            "38281   71      retired    single    university.degree       no      no   no\n"
          ]
        }
      ]
    },
    {
      "cell_type": "markdown",
      "source": [
        "Drop data yang terduplikat"
      ],
      "metadata": {
        "id": "RXkltCiO32AG"
      }
    },
    {
      "cell_type": "code",
      "source": [
        "dataset = dataset.drop_duplicates()"
      ],
      "metadata": {
        "execution": {
          "iopub.status.busy": "2023-06-06T14:31:55.002174Z",
          "iopub.execute_input": "2023-06-06T14:31:55.00312Z",
          "iopub.status.idle": "2023-06-06T14:31:55.0661Z",
          "shell.execute_reply.started": "2023-06-06T14:31:55.003045Z",
          "shell.execute_reply": "2023-06-06T14:31:55.064053Z"
        },
        "trusted": true,
        "id": "wZqwDuG632AG"
      },
      "execution_count": 10,
      "outputs": []
    },
    {
      "cell_type": "code",
      "source": [
        "print(dataset.shape)"
      ],
      "metadata": {
        "execution": {
          "iopub.status.busy": "2023-06-06T14:31:55.069332Z",
          "iopub.execute_input": "2023-06-06T14:31:55.070318Z",
          "iopub.status.idle": "2023-06-06T14:31:55.075893Z",
          "shell.execute_reply.started": "2023-06-06T14:31:55.07027Z",
          "shell.execute_reply": "2023-06-06T14:31:55.074588Z"
        },
        "trusted": true,
        "colab": {
          "base_uri": "https://localhost:8080/"
        },
        "id": "0b4Yy8nl32AH",
        "outputId": "625f443f-311b-4b07-a36f-f46146d51ba5"
      },
      "execution_count": 11,
      "outputs": [
        {
          "output_type": "stream",
          "name": "stdout",
          "text": [
            "(41176, 21)\n"
          ]
        }
      ]
    },
    {
      "cell_type": "markdown",
      "source": [
        "Check missing values"
      ],
      "metadata": {
        "id": "p8DK6HjR32AH"
      }
    },
    {
      "cell_type": "code",
      "source": [
        "print('\\033[1mNULL VALUES\\033[0m\\n'+ str(dataset.isnull().values.any()))"
      ],
      "metadata": {
        "execution": {
          "iopub.status.busy": "2023-06-06T14:31:55.077085Z",
          "iopub.execute_input": "2023-06-06T14:31:55.077447Z",
          "iopub.status.idle": "2023-06-06T14:31:55.160029Z",
          "shell.execute_reply.started": "2023-06-06T14:31:55.077419Z",
          "shell.execute_reply": "2023-06-06T14:31:55.158819Z"
        },
        "trusted": true,
        "colab": {
          "base_uri": "https://localhost:8080/"
        },
        "id": "kpbptG3G32AH",
        "outputId": "3ce9a55b-6c1a-4dbb-9ab5-eb5719b0f2f4"
      },
      "execution_count": 12,
      "outputs": [
        {
          "output_type": "stream",
          "name": "stdout",
          "text": [
            "\u001b[1mNULL VALUES\u001b[0m\n",
            "False\n"
          ]
        }
      ]
    },
    {
      "cell_type": "code",
      "source": [
        "Subscribed = pd.DataFrame(dataset['subscribed'].value_counts())\n",
        "print(Subscribed.T)\n",
        "pd.DataFrame(dataset['subscribed'].value_counts()).plot(kind='bar', color='lightgreen')\n",
        "plt.show()"
      ],
      "metadata": {
        "execution": {
          "iopub.status.busy": "2023-06-06T14:31:55.161673Z",
          "iopub.execute_input": "2023-06-06T14:31:55.162021Z",
          "iopub.status.idle": "2023-06-06T14:31:55.364455Z",
          "shell.execute_reply.started": "2023-06-06T14:31:55.161995Z",
          "shell.execute_reply": "2023-06-06T14:31:55.362966Z"
        },
        "trusted": true,
        "colab": {
          "base_uri": "https://localhost:8080/",
          "height": 494
        },
        "id": "6RjKJyad32AH",
        "outputId": "ce05fc35-7696-49d0-864b-fccb8eeec162"
      },
      "execution_count": 13,
      "outputs": [
        {
          "output_type": "stream",
          "name": "stdout",
          "text": [
            "subscribed     no   yes\n",
            "count       36537  4639\n"
          ]
        },
        {
          "output_type": "display_data",
          "data": {
            "text/plain": [
              "<Figure size 640x480 with 1 Axes>"
            ],
            "image/png": "[encoded data removed]"
          },
          "metadata": {}
        }
      ]
    },
    {
      "cell_type": "markdown",
      "source": [
        "**Data Preparation**"
      ],
      "metadata": {
        "id": "1W36HANw32AH"
      }
    },
    {
      "cell_type": "markdown",
      "source": [
        "Mengubah kolom ages menjadi age gruop dan menghapus kolom age"
      ],
      "metadata": {
        "id": "vMnzcuIR32AH"
      }
    },
    {
      "cell_type": "code",
      "source": [
        "#Mengubah kolom ages menjadi age gruop dan menghapus kolom age\n",
        "bins= [0,10,20,30,40,50,60,70,80,90,100]\n",
        "labels = [0,1,2,3,4,5,6,7,8,9]\n",
        "dataset.insert(1, 'agegroup', pd.cut(dataset['age'], bins=bins, labels=labels, right=False))\n",
        "dataset = dataset.drop('age', axis=1)"
      ],
      "metadata": {
        "execution": {
          "iopub.status.busy": "2023-06-06T14:31:55.368945Z",
          "iopub.execute_input": "2023-06-06T14:31:55.369494Z",
          "iopub.status.idle": "2023-06-06T14:31:55.391733Z",
          "shell.execute_reply.started": "2023-06-06T14:31:55.369452Z",
          "shell.execute_reply": "2023-06-06T14:31:55.390597Z"
        },
        "trusted": true,
        "id": "LeDbzC4K32AI"
      },
      "execution_count": 14,
      "outputs": []
    },
    {
      "cell_type": "markdown",
      "source": [
        "mengkonversi ke numerik"
      ],
      "metadata": {
        "id": "djPZ2txP32AI"
      }
    },
    {
      "cell_type": "code",
      "source": [
        "#memilih kolom-kolom dengan tipe data kategorikal (objek).\n",
        "categorical_columns = dataset.select_dtypes(include='object').columns"
      ],
      "metadata": {
        "execution": {
          "iopub.status.busy": "2023-06-06T14:31:55.394928Z",
          "iopub.execute_input": "2023-06-06T14:31:55.395423Z",
          "iopub.status.idle": "2023-06-06T14:31:55.405783Z",
          "shell.execute_reply.started": "2023-06-06T14:31:55.395382Z",
          "shell.execute_reply": "2023-06-06T14:31:55.404486Z"
        },
        "trusted": true,
        "id": "S_15Iggl32AI"
      },
      "execution_count": 15,
      "outputs": []
    },
    {
      "cell_type": "code",
      "source": [
        "# mengubah nilai-nilai kategorikal dalam dataset menjadi representasi numerik\n",
        "from sklearn.preprocessing import LabelEncoder\n",
        "le = LabelEncoder()\n",
        "for i in categorical_columns:\n",
        "    dataset[i] = le.fit_transform(dataset[i])"
      ],
      "metadata": {
        "execution": {
          "iopub.status.busy": "2023-06-06T14:31:55.407869Z",
          "iopub.execute_input": "2023-06-06T14:31:55.408346Z",
          "iopub.status.idle": "2023-06-06T14:31:55.546504Z",
          "shell.execute_reply.started": "2023-06-06T14:31:55.408304Z",
          "shell.execute_reply": "2023-06-06T14:31:55.545193Z"
        },
        "trusted": true,
        "id": "3nPXX1ZZ32AI"
      },
      "execution_count": 16,
      "outputs": []
    },
    {
      "cell_type": "code",
      "source": [
        "print(dataset.head())"
      ],
      "metadata": {
        "execution": {
          "iopub.status.busy": "2023-06-06T14:31:55.548706Z",
          "iopub.execute_input": "2023-06-06T14:31:55.549354Z",
          "iopub.status.idle": "2023-06-06T14:31:55.56662Z",
          "shell.execute_reply.started": "2023-06-06T14:31:55.549317Z",
          "shell.execute_reply": "2023-06-06T14:31:55.5657Z"
        },
        "trusted": true,
        "colab": {
          "base_uri": "https://localhost:8080/"
        },
        "id": "MiJzKqB332AI",
        "outputId": "0d5701f2-5352-4cea-f989-b58a902c6edd"
      },
      "execution_count": 17,
      "outputs": [
        {
          "output_type": "stream",
          "name": "stdout",
          "text": [
            "  agegroup  job  marital  education  default  housing  loan  contact  month  \\\n",
            "0        5    3        1          0        0        0     0        1      6   \n",
            "1        5    7        1          3        1        0     0        1      6   \n",
            "2        3    7        1          3        0        2     0        1      6   \n",
            "3        4    0        1          1        0        0     0        1      6   \n",
            "4        5    7        1          3        0        0     2        1      6   \n",
            "\n",
            "   day_of_week  ...  campaign  pdays  previous  poutcome  emp.var.rate  \\\n",
            "0            1  ...         1    999         0         1           1.1   \n",
            "1            1  ...         1    999         0         1           1.1   \n",
            "2            1  ...         1    999         0         1           1.1   \n",
            "3            1  ...         1    999         0         1           1.1   \n",
            "4            1  ...         1    999         0         1           1.1   \n",
            "\n",
            "   cons.price.idx  cons.conf.idx  euribor3m  nr.employed  subscribed  \n",
            "0          93.994          -36.4      4.857       5191.0           0  \n",
            "1          93.994          -36.4      4.857       5191.0           0  \n",
            "2          93.994          -36.4      4.857       5191.0           0  \n",
            "3          93.994          -36.4      4.857       5191.0           0  \n",
            "4          93.994          -36.4      4.857       5191.0           0  \n",
            "\n",
            "[5 rows x 21 columns]\n"
          ]
        }
      ]
    },
    {
      "cell_type": "markdown",
      "source": [
        "Normalisasi"
      ],
      "metadata": {
        "id": "-vEwUpqq32AJ"
      }
    },
    {
      "cell_type": "code",
      "source": [
        "X_train = dataset.iloc[:, :-1].values.astype('float')\n",
        "y_train = dataset['subscribed'].values"
      ],
      "metadata": {
        "execution": {
          "iopub.status.busy": "2023-06-06T14:31:55.567856Z",
          "iopub.execute_input": "2023-06-06T14:31:55.568779Z",
          "iopub.status.idle": "2023-06-06T14:31:55.591031Z",
          "shell.execute_reply.started": "2023-06-06T14:31:55.568745Z",
          "shell.execute_reply": "2023-06-06T14:31:55.589858Z"
        },
        "trusted": true,
        "id": "QBfMWl8H32AJ"
      },
      "execution_count": 18,
      "outputs": []
    },
    {
      "cell_type": "markdown",
      "source": [
        "???"
      ],
      "metadata": {
        "id": "6hwYFqlH32AJ"
      }
    },
    {
      "cell_type": "code",
      "source": [
        "from sklearn.preprocessing import StandardScaler\n",
        "X_train = pd.DataFrame(StandardScaler().fit_transform(X_train))"
      ],
      "metadata": {
        "execution": {
          "iopub.status.busy": "2023-06-06T14:31:55.592406Z",
          "iopub.execute_input": "2023-06-06T14:31:55.592781Z",
          "iopub.status.idle": "2023-06-06T14:31:55.611415Z",
          "shell.execute_reply.started": "2023-06-06T14:31:55.592749Z",
          "shell.execute_reply": "2023-06-06T14:31:55.610124Z"
        },
        "trusted": true,
        "id": "-KJ3B2n132AJ"
      },
      "execution_count": 19,
      "outputs": []
    },
    {
      "cell_type": "markdown",
      "source": [
        "???"
      ],
      "metadata": {
        "id": "0dgKZ_CD32AK"
      }
    },
    {
      "cell_type": "code",
      "source": [
        "# X_train[y_train == 1].plot(kind='density', ind=100, legend=False)\n",
        "# plt.title('Subscribed Likelihood Plot after Standardization')\n",
        "# plt.show()"
      ],
      "metadata": {
        "execution": {
          "iopub.status.busy": "2023-06-06T14:31:55.614548Z",
          "iopub.execute_input": "2023-06-06T14:31:55.615075Z",
          "iopub.status.idle": "2023-06-06T14:31:55.620664Z",
          "shell.execute_reply.started": "2023-06-06T14:31:55.615034Z",
          "shell.execute_reply": "2023-06-06T14:31:55.6194Z"
        },
        "trusted": true,
        "id": "RYxM7Oui32AK"
      },
      "execution_count": 20,
      "outputs": []
    },
    {
      "cell_type": "code",
      "source": [
        "# X_train[y_train == 0].plot(kind='density', ind=100, legend=False)\n",
        "# plt.title('Not Subscribed Likelihood Plot after Standardization')\n",
        "# plt.show()"
      ],
      "metadata": {
        "execution": {
          "iopub.status.busy": "2023-06-06T14:31:55.623895Z",
          "iopub.execute_input": "2023-06-06T14:31:55.624744Z",
          "iopub.status.idle": "2023-06-06T14:31:55.631757Z",
          "shell.execute_reply.started": "2023-06-06T14:31:55.624698Z",
          "shell.execute_reply": "2023-06-06T14:31:55.630293Z"
        },
        "trusted": true,
        "id": "KNauQcn432AK"
      },
      "execution_count": 21,
      "outputs": []
    },
    {
      "cell_type": "code",
      "source": [
        "# plt.figure(figsize=(12,10))\n",
        "# sns.heatmap(dataset.corr(method='spearman', numeric_only=True), cbar=True, cmap=\"RdBu_r\")\n",
        "# plt.title(\"Correlation Matrix\", fontsize=16)\n",
        "# plt.show()"
      ],
      "metadata": {
        "execution": {
          "iopub.status.busy": "2023-06-06T14:31:55.634234Z",
          "iopub.execute_input": "2023-06-06T14:31:55.634642Z",
          "iopub.status.idle": "2023-06-06T14:31:55.64219Z",
          "shell.execute_reply.started": "2023-06-06T14:31:55.634591Z",
          "shell.execute_reply": "2023-06-06T14:31:55.640958Z"
        },
        "trusted": true,
        "id": "HhamwBlF32AK"
      },
      "execution_count": 22,
      "outputs": []
    },
    {
      "cell_type": "code",
      "source": [
        "#Menghapus variabel dengan korelasi tinggi\n",
        "correlation = X_train.corr(method='spearman').abs()\n",
        "upper = correlation.where(np.triu(np.ones(correlation.shape), k=1).astype(bool))\n",
        "to_drop = [column for column in upper.columns if any(upper[column] > 0.40)]\n",
        "X_train.drop(X_train[to_drop], axis=1, inplace=True)"
      ],
      "metadata": {
        "execution": {
          "iopub.status.busy": "2023-06-06T14:31:55.644001Z",
          "iopub.execute_input": "2023-06-06T14:31:55.644976Z",
          "iopub.status.idle": "2023-06-06T14:31:55.771416Z",
          "shell.execute_reply.started": "2023-06-06T14:31:55.644936Z",
          "shell.execute_reply": "2023-06-06T14:31:55.770096Z"
        },
        "trusted": true,
        "id": "VHz5Fbzw32AL"
      },
      "execution_count": 23,
      "outputs": []
    },
    {
      "cell_type": "code",
      "source": [
        "print(X_train.shape)"
      ],
      "metadata": {
        "execution": {
          "iopub.status.busy": "2023-06-06T14:31:55.773993Z",
          "iopub.execute_input": "2023-06-06T14:31:55.774651Z",
          "iopub.status.idle": "2023-06-06T14:31:55.780642Z",
          "shell.execute_reply.started": "2023-06-06T14:31:55.7746Z",
          "shell.execute_reply": "2023-06-06T14:31:55.779575Z"
        },
        "trusted": true,
        "colab": {
          "base_uri": "https://localhost:8080/"
        },
        "id": "J25ibzrN32AL",
        "outputId": "268479fd-c540-400a-8033-c9ff3a2e8656"
      },
      "execution_count": 24,
      "outputs": [
        {
          "output_type": "stream",
          "name": "stdout",
          "text": [
            "(41176, 13)\n"
          ]
        }
      ]
    },
    {
      "cell_type": "code",
      "source": [
        "#Membagi dataset menjadi data train dan data test\n",
        "from sklearn.model_selection import train_test_split\n",
        "X_train, X_test, y_train, y_test = train_test_split(X_train, y_train, test_size = 0.25, random_state=42)"
      ],
      "metadata": {
        "execution": {
          "iopub.status.busy": "2023-06-06T14:31:55.782178Z",
          "iopub.execute_input": "2023-06-06T14:31:55.78282Z",
          "iopub.status.idle": "2023-06-06T14:31:55.800407Z",
          "shell.execute_reply.started": "2023-06-06T14:31:55.782786Z",
          "shell.execute_reply": "2023-06-06T14:31:55.798677Z"
        },
        "trusted": true,
        "id": "Qt2pzS1j32AL"
      },
      "execution_count": 25,
      "outputs": []
    },
    {
      "cell_type": "code",
      "source": [
        "from sklearn.naive_bayes import GaussianNB\n",
        "gb = GaussianNB()\n",
        "gb.fit(X_train, y_train)\n",
        "pred = gb.predict(pd.DataFrame(X_test))"
      ],
      "metadata": {
        "execution": {
          "iopub.status.busy": "2023-06-06T14:31:55.802809Z",
          "iopub.execute_input": "2023-06-06T14:31:55.803191Z",
          "iopub.status.idle": "2023-06-06T14:31:55.824065Z",
          "shell.execute_reply.started": "2023-06-06T14:31:55.803159Z",
          "shell.execute_reply": "2023-06-06T14:31:55.822812Z"
        },
        "trusted": true,
        "id": "OZvzyO3U32AL"
      },
      "execution_count": 26,
      "outputs": []
    },
    {
      "cell_type": "code",
      "source": [
        "from sklearn.metrics import roc_curve, auc\n",
        "gbprob = gb.predict_proba(X_train)[:,1]\n",
        "fpr, tpr, thr = roc_curve(y_train, gbprob)\n",
        "plt.plot(fpr, tpr)\n",
        "plt.xlabel('False Positive Rate')\n",
        "plt.ylabel('True Positive Rate')\n",
        "plt.title('Receiver Operating Characteristic Plot')\n",
        "print(auc(fpr, tpr))"
      ],
      "metadata": {
        "execution": {
          "iopub.status.busy": "2023-06-06T14:31:55.825733Z",
          "iopub.execute_input": "2023-06-06T14:31:55.826072Z",
          "iopub.status.idle": "2023-06-06T14:31:56.126548Z",
          "shell.execute_reply.started": "2023-06-06T14:31:55.826046Z",
          "shell.execute_reply": "2023-06-06T14:31:56.125673Z"
        },
        "trusted": true,
        "colab": {
          "base_uri": "https://localhost:8080/",
          "height": 489
        },
        "id": "JE9b_T0532AL",
        "outputId": "d0002004-ba41-43f9-e9ec-4fb231ff95df"
      },
      "execution_count": 27,
      "outputs": [
        {
          "output_type": "stream",
          "name": "stdout",
          "text": [
            "0.8738079987876639\n"
          ]
        },
        {
          "output_type": "display_data",
          "data": {
            "text/plain": [
              "<Figure size 640x480 with 1 Axes>"
            ],
            "image/png": "[encoded data removed]"
          },
          "metadata": {}
        }
      ]
    },
    {
      "cell_type": "code",
      "source": [
        "from sklearn.metrics import confusion_matrix, accuracy_score, classification_report\n",
        "print('Accuracy score of Gaussian Naive Bayes:', accuracy_score(y_test, pred))\n",
        "print('Confusion Matrix:\\n', confusion_matrix(y_test, pred))\n",
        "print('Classification Report:\\n', classification_report(y_test, pred))"
      ],
      "metadata": {
        "execution": {
          "iopub.status.busy": "2023-06-06T14:31:56.127888Z",
          "iopub.execute_input": "2023-06-06T14:31:56.128906Z",
          "iopub.status.idle": "2023-06-06T14:31:56.159883Z",
          "shell.execute_reply.started": "2023-06-06T14:31:56.128867Z",
          "shell.execute_reply": "2023-06-06T14:31:56.158645Z"
        },
        "trusted": true,
        "colab": {
          "base_uri": "https://localhost:8080/"
        },
        "id": "IRD50QON32AL",
        "outputId": "feac13e9-d00d-4497-c595-e864a08a03a2"
      },
      "execution_count": 28,
      "outputs": [
        {
          "output_type": "stream",
          "name": "stdout",
          "text": [
            "Accuracy score of Gaussian Naive Bayes: 0.8985816980765494\n",
            "Confusion Matrix:\n",
            " [[8712  382]\n",
            " [ 662  538]]\n",
            "Classification Report:\n",
            "               precision    recall  f1-score   support\n",
            "\n",
            "           0       0.93      0.96      0.94      9094\n",
            "           1       0.58      0.45      0.51      1200\n",
            "\n",
            "    accuracy                           0.90     10294\n",
            "   macro avg       0.76      0.70      0.73     10294\n",
            "weighted avg       0.89      0.90      0.89     10294\n",
            "\n"
          ]
        }
      ]
    }
  ]
}